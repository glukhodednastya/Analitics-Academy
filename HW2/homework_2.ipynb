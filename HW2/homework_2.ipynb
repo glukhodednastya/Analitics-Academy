{
 "cells": [
  {
   "cell_type": "code",
   "execution_count": 3,
   "id": "716d09bf",
   "metadata": {},
   "outputs": [],
   "source": [
    "import csv"
   ]
  },
  {
   "cell_type": "code",
   "execution_count": 98,
   "id": "9c9f4729",
   "metadata": {},
   "outputs": [],
   "source": [
    "def read_file(file_name: str) -> list:\n",
    "    with open(file_name, encoding = 'utf_8', newline = '') as f:\n",
    "        data = csv.reader(f, delimiter = \";\")\n",
    "        df = []\n",
    "        for row in data:\n",
    "            table = list(map(lambda x: x.split(','), row))\n",
    "            df.append(table)\n",
    "    return df"
   ]
  },
  {
   "cell_type": "code",
   "execution_count": 121,
   "id": "7ace3177",
   "metadata": {},
   "outputs": [],
   "source": [
    "def select_action() -> int:\n",
    "    print('Выберите опцию:\\n'\n",
    "         '1. Вывести в понятном виде иерархию команд. \\n'\n",
    "         '2. Вывести сводный отчёт по департаментам. \\n'\n",
    "         '3. Сохранить сводный отчёт из предыдущего пункта в виде csv-файла.')\n",
    "    action = int(input())\n",
    "    return action"
   ]
  },
  {
   "cell_type": "code",
   "execution_count": 119,
   "id": "4dcebeca",
   "metadata": {},
   "outputs": [],
   "source": [
    "def hierarchy_of_teams():\n",
    "    department = []\n",
    "    for i in range(1, len(f)):\n",
    "        department.append(f[i][1][0])\n",
    "    unique_department = list(set(department))\n",
    "    for i in range(len(unique_department)):\n",
    "        print(unique_department[i])\n",
    "        team = []\n",
    "        for j in range(1, len(f)):\n",
    "            if unique_department[i] == f[j][1][0]:\n",
    "                team.append(f[j][2][0])\n",
    "        for n, elem in enumerate(set(team)):\n",
    "            print(n + 1, elem)"
   ]
  },
  {
   "cell_type": "code",
   "execution_count": 141,
   "id": "c119416d",
   "metadata": {},
   "outputs": [],
   "source": [
    "def report_on_deportations():\n",
    "    department = []\n",
    "    for i in range(1, len(f)):\n",
    "        department.append(f[i][1][0])\n",
    "    unique_department = list(set(department))\n",
    "    for i in range(len(unique_department)):\n",
    "        print('Название: ', unique_department[i])\n",
    "        size = 0\n",
    "        min_salary = int(f[1][5][0])\n",
    "        max_salary = 0\n",
    "        sum_salary = 0\n",
    "        for j in range(1, len(f)):\n",
    "            if unique_department[i] == f[j][1][0]:  \n",
    "                size += 1\n",
    "                sum_salary += int(f[j][5][0])\n",
    "                if int(f[j][5][0]) < min_salary:\n",
    "                    min_salary = int(f[j][5][0])\n",
    "                if int(f[j][5][0]) > max_salary:\n",
    "                    max_salary = int(f[j][5][0])\n",
    "        print('Численность: ', size, \n",
    "              ', вилка зарплат: ', min_salary, '-', max_salary, \n",
    "              ', средняя зарплата: ', round(sum_salary/size, 2))"
   ]
  },
  {
   "cell_type": "code",
   "execution_count": 145,
   "id": "9a7f1b38",
   "metadata": {},
   "outputs": [],
   "source": [
    "def save_the_report():\n",
    "    with open('report.csv', 'w', encoding = 'utf_8', newline = '') as csvfile:\n",
    "        fieldnames = ['Название', 'Численность', 'Минимальная зарплата', 'Максимальная зарплата', 'Средняя зарплата']\n",
    "        writer = csv.DictWriter(csvfile, fieldnames = fieldnames)\n",
    "        writer.writeheader()\n",
    "        \n",
    "        department = []\n",
    "        for i in range(1, len(f)):\n",
    "            department.append(f[i][1][0])\n",
    "        unique_department = list(set(department))\n",
    "        for i in range(len(unique_department)):\n",
    "            size = 0\n",
    "            min_salary = int(f[1][5][0])\n",
    "            max_salary = 0\n",
    "            sum_salary = 0\n",
    "            for j in range(1, len(f)):\n",
    "                if unique_department[i] == f[j][1][0]:  \n",
    "                    size += 1\n",
    "                    sum_salary += int(f[j][5][0])\n",
    "                    if int(f[j][5][0]) < min_salary:\n",
    "                        min_salary = int(f[j][5][0])\n",
    "                    if int(f[j][5][0]) > max_salary:\n",
    "                        max_salary = int(f[j][5][0])\n",
    "            writer.writerow({'Название': unique_department[i], 'Численность': size, 'Минимальная зарплата': min_salary, \n",
    "                             'Максимальная зарплата': max_salary, 'Средняя зарплата': round(sum_salary/size, 2)})"
   ]
  },
  {
   "cell_type": "code",
   "execution_count": 146,
   "id": "c0c28010",
   "metadata": {},
   "outputs": [
    {
     "name": "stdout",
     "output_type": "stream",
     "text": [
      "Выберите опцию:\n",
      "1. Вывести в понятном виде иерархию команд. \n",
      "2. Вывести сводный отчёт по департаментам. \n",
      "3. Сохранить сводный отчёт из предыдущего пункта в виде csv-файла.\n",
      "3\n"
     ]
    }
   ],
   "source": [
    "if __name__ == '__main__':\n",
    "    action = select_action()\n",
    "    if action == 1:\n",
    "        hierarchy_of_teams()\n",
    "    elif action == 2:\n",
    "        report_on_deportations()\n",
    "    elif action == 3:\n",
    "        save_the_report()\n",
    "    else:\n",
    "        print('Опция не найдена')"
   ]
  }
 ],
 "metadata": {
  "kernelspec": {
   "display_name": "Python 3 (ipykernel)",
   "language": "python",
   "name": "python3"
  },
  "language_info": {
   "codemirror_mode": {
    "name": "ipython",
    "version": 3
   },
   "file_extension": ".py",
   "mimetype": "text/x-python",
   "name": "python",
   "nbconvert_exporter": "python",
   "pygments_lexer": "ipython3",
   "version": "3.9.12"
  }
 },
 "nbformat": 4,
 "nbformat_minor": 5
}
