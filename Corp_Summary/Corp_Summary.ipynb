{
 "cells": [
  {
   "cell_type": "code",
   "execution_count": null,
   "id": "9c9f4729",
   "metadata": {},
   "outputs": [],
   "source": [
    "def select_action() -> int:\n",
    "    print('Выберите опцию (1 / 2 / 3 / 0):\\n'\n",
    "        '1. Вывести в понятном виде иерархию команд. \\n'\n",
    "        '2. Вывести сводный отчёт по департаментам. \\n'\n",
    "        '3. Сохранить сводный отчёт из предыдущего пункта в виде csv-файла. \\n'\n",
    "        '0. Выйти из программы')\n",
    "    return int(input())"
   ]
  },
  {
   "cell_type": "code",
   "execution_count": null,
   "id": "00e54492",
   "metadata": {},
   "outputs": [],
   "source": [
    "def read_file(file_name: str) -> [[str]]:\n",
    "    with open(file_name, 'r', encoding='utf_8', newline='') as f:\n",
    "        return [row.split(';') for row in f.read().rstrip().split('\\r\\n')][1:]  "
   ]
  },
  {
   "cell_type": "code",
   "execution_count": null,
   "id": "b268a532",
   "metadata": {},
   "outputs": [],
   "source": [
    "def hierarchy_of_teams(df: [[str]]) -> list[dict]:\n",
    "    from collections import defaultdict\n",
    "    res = defaultdict(set)\n",
    "    for row in df:\n",
    "        res[row[1]].add(row[2])    \n",
    "    return dict(res)"
   ]
  },
  {
   "cell_type": "code",
   "execution_count": null,
   "id": "93db8dd2",
   "metadata": {},
   "outputs": [],
   "source": [
    "def output_hierarchy_of_teams():\n",
    "    print('Иерархия департаментов:')\n",
    "    for key, value in hierarchy_of_teams(df).items():\n",
    "        print(key, value)"
   ]
  },
  {
   "cell_type": "code",
   "execution_count": null,
   "id": "b5b08262",
   "metadata": {},
   "outputs": [],
   "source": [
    "def report_on_deportations(df: [[str]]) -> list[dict]:\n",
    "    departments = set()\n",
    "    report_on_deportation = list()\n",
    "    \n",
    "    for row in df:\n",
    "        departments.add(row[1])   \n",
    "    for department in departments:\n",
    "        department_dict = dict()\n",
    "        department_info = list()\n",
    "        for row in df:\n",
    "            if row[1] == department:\n",
    "                department_info.append(row)\n",
    "        salary_list = [int(row[5]) for row in department_info]\n",
    "        department_dict['Название:'] = department\n",
    "        department_dict['Численность:'] = len(department_info)\n",
    "        department_dict['Минимальная зарплата:'] = min(salary_list)\n",
    "        department_dict['Максимальная зарплата:'] = max(salary_list)\n",
    "        department_dict['Средняя зарплата:'] = round(sum(salary_list) / len(department_info))\n",
    "        report_on_deportation.append(department_dict)\n",
    "        \n",
    "    return report_on_deportation"
   ]
  },
  {
   "cell_type": "code",
   "execution_count": null,
   "id": "0c9c6a96",
   "metadata": {},
   "outputs": [],
   "source": [
    "def output_report_on_deportations():\n",
    "    print('Отчет по департаментам: \\n')\n",
    "    for department_dict in report_on_deportations(df):\n",
    "        for key, value in department_dict.items():\n",
    "            print(key, value)\n",
    "        print('\\n')"
   ]
  },
  {
   "cell_type": "code",
   "execution_count": null,
   "id": "535e6361",
   "metadata": {},
   "outputs": [],
   "source": [
    "def save_the_report(report_on_deportation: list[dict]):\n",
    "    import csv\n",
    "    fieldnames = report_on_deportation[0].keys()\n",
    "    with open('report.csv', 'w', newline='', encoding='utf_8') as csvfile:\n",
    "        data_writer = csv.DictWriter(csvfile, fieldnames)\n",
    "        data_writer.writeheader()\n",
    "        data_writer.writerows(report_on_deportation)\n",
    "    print('Отчет успешно сохранен\\n')"
   ]
  },
  {
   "cell_type": "code",
   "execution_count": null,
   "id": "c0c28010",
   "metadata": {},
   "outputs": [],
   "source": [
    "if __name__ == '__main__':\n",
    "    df = read_file('Corp_Summary.csv')\n",
    "    while(True):\n",
    "        action = select_action()\n",
    "        if action == 1:\n",
    "            output_hierarchy_of_teams()    \n",
    "        elif action == 2:\n",
    "            output_report_on_deportations()\n",
    "        elif action == 3:\n",
    "            report_on_deportation = report_on_deportations(df)\n",
    "            save_the_report(report_on_deportation)\n",
    "        elif action == 0:\n",
    "            break\n",
    "        else:\n",
    "            print('Опция не найдена. Попробуйте еще раз!\\n')"
   ]
  }
 ],
 "metadata": {
  "kernelspec": {
   "display_name": "Python 3 (ipykernel)",
   "language": "python",
   "name": "python3"
  },
  "language_info": {
   "codemirror_mode": {
    "name": "ipython",
    "version": 3
   },
   "file_extension": ".py",
   "mimetype": "text/x-python",
   "name": "python",
   "nbconvert_exporter": "python",
   "pygments_lexer": "ipython3",
   "version": "3.9.12"
  }
 },
 "nbformat": 4,
 "nbformat_minor": 5
}
